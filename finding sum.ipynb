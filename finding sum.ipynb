{
 "cells": [
  {
   "cell_type": "markdown",
   "metadata": {},
   "source": [
    "### Funny code using python\n",
    "Finding whether there is a pair whose sum equals to the given one"
   ]
  },
  {
   "cell_type": "code",
   "execution_count": 1,
   "metadata": {},
   "outputs": [],
   "source": [
    "l1 = [1, 2, 8, 9]\n",
    "l2 = [1, 2, 6, 4, 9, 4]"
   ]
  },
  {
   "cell_type": "code",
   "execution_count": 2,
   "metadata": {},
   "outputs": [],
   "source": [
    "def method_1(l, s):\n",
    "    '''\n",
    "    List must be sorted.\n",
    "    Using 02 for-loops to find if sum(l[i, i]) == 8 \n",
    "    Bad decision\n",
    "    '''\n",
    "    l.sort()\n",
    "    for i in l:\n",
    "        for j in l[1:]:\n",
    "            if (i+j)==s:\n",
    "                return True, (i, j)\n",
    "            else: \n",
    "                return False"
   ]
  },
  {
   "cell_type": "code",
   "execution_count": 3,
   "metadata": {},
   "outputs": [],
   "source": [
    "def method_2(l, s):\n",
    "    '''\n",
    "    List must be sorted.\n",
    "    Running pair: \n",
    "    if x[start] + x[end] < sum: start += 1\n",
    "    else: end -= 1\n",
    "    '''\n",
    "    l.sort()\n",
    "    i = 0\n",
    "    small = l[i]\n",
    "    high = l[-1]\n",
    "    \n",
    "    result = True\n",
    "    while result:\n",
    "        if small + high < s:\n",
    "            small = l[i+1]\n",
    "        else:\n",
    "            high = l[i-1]\n",
    "            \n",
    "        if small + high == s:\n",
    "            result = False\n",
    "            return small, high\n",
    "        i+=1\n",
    "        return False"
   ]
  },
  {
   "cell_type": "code",
   "execution_count": 4,
   "metadata": {},
   "outputs": [],
   "source": [
    "def method_3(l, s):\n",
    "    '''\n",
    "    List can be unsorted + finding whether there is a pair whose sum == s (y/n)\n",
    "    Using complement\n",
    "    Eg: [1, 7], sum = 8, i.start = 1, comp.i[0] = {7}\n",
    "    if l[1] = 7 in comp => True else i+= 1\n",
    "    '''\n",
    "    comp = set()\n",
    "    i = 0  \n",
    "    result = True\n",
    "    \n",
    "    while result:\n",
    "        if l[i] in comp:\n",
    "            result = False\n",
    "            return True\n",
    "        else:\n",
    "            comp.add(s-l[i])\n",
    "        i+=1\n",
    "        \n",
    "    return False"
   ]
  }
 ],
 "metadata": {
  "kernelspec": {
   "display_name": "Python 3",
   "language": "python",
   "name": "python3"
  },
  "language_info": {
   "codemirror_mode": {
    "name": "ipython",
    "version": 3
   },
   "file_extension": ".py",
   "mimetype": "text/x-python",
   "name": "python",
   "nbconvert_exporter": "python",
   "pygments_lexer": "ipython3",
   "version": "3.6.5"
  }
 },
 "nbformat": 4,
 "nbformat_minor": 2
}
