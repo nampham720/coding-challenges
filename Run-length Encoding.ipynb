{
 "cells": [
  {
   "cell_type": "markdown",
   "metadata": {},
   "source": [
    "## Problem:\n",
    "\n",
    "Run-length encoding is a fast and simple method of encoding strings. The basic idea is to represent repeated successive characters as a single count and character. For example, the string \"AAAABBBCCDAA\" would be encoded as \"4A3B2C1D2A\".\n",
    "\n",
    "## Approach:\n",
    "* Tracking list\n",
    "* **First**: ord(given[0]) - ord(a) = x, tracking = [x]\n",
    "* **Iteration**:\n",
    "    * ord(given[1]) - ord(a) = x, if x == tracking[-1], accumulative += 1\n",
    "    * ord(given[2]) - ord(a) = y, if y != tracking[-1] ==> tracking = [x, y], accumulative = 1, ..."
   ]
  },
  {
   "cell_type": "code",
   "execution_count": 1,
   "metadata": {},
   "outputs": [],
   "source": [
    "prompt = \"AAAABBBCCDAA\""
   ]
  },
  {
   "cell_type": "code",
   "execution_count": 2,
   "metadata": {},
   "outputs": [
    {
     "data": {
      "text/plain": [
       "'4A3B2C1D2A'"
      ]
     },
     "execution_count": 2,
     "metadata": {},
     "output_type": "execute_result"
    }
   ],
   "source": [
    "def tracking(prompt):\n",
    "    track = list()\n",
    "    first = ord(prompt[0]) - ord(\"a\")\n",
    "    track.append(first)\n",
    "    accu = 1\n",
    "    \n",
    "    output = str()\n",
    "    \n",
    "    for i in range(1, len(prompt)):\n",
    "        diff = ord(prompt[i]) - ord(\"a\")\n",
    "        \n",
    "        if diff == track[-1]:\n",
    "            accu += 1\n",
    "        else:\n",
    "            track.append(diff)\n",
    "            \n",
    "            output += str(accu)\n",
    "            output += prompt[i-1]\n",
    "            \n",
    "            accu = 1\n",
    "    \n",
    "    output += str(accu)\n",
    "    output += prompt[-1]\n",
    "    \n",
    "    return output\n",
    "\n",
    "tracking(prompt)"
   ]
  },
  {
   "cell_type": "code",
   "execution_count": 3,
   "metadata": {},
   "outputs": [
    {
     "data": {
      "text/plain": [
       "'4A3B2C1A1B1N'"
      ]
     },
     "execution_count": 3,
     "metadata": {},
     "output_type": "execute_result"
    }
   ],
   "source": [
    "prompt = 'AAAABBBCCABN'\n",
    "tracking(prompt)"
   ]
  },
  {
   "cell_type": "code",
   "execution_count": 4,
   "metadata": {},
   "outputs": [
    {
     "data": {
      "text/plain": [
       "'3E2F2G2H1I1J3K1L1M4N2O1P1Z'"
      ]
     },
     "execution_count": 4,
     "metadata": {},
     "output_type": "execute_result"
    }
   ],
   "source": [
    "prompt = \"EEEFFGGHHIJKKKLMNNNNOOPZ\"\n",
    "tracking(prompt)"
   ]
  },
  {
   "cell_type": "code",
   "execution_count": null,
   "metadata": {},
   "outputs": [],
   "source": []
  }
 ],
 "metadata": {
  "kernelspec": {
   "display_name": "Python 3",
   "language": "python",
   "name": "python3"
  },
  "language_info": {
   "codemirror_mode": {
    "name": "ipython",
    "version": 3
   },
   "file_extension": ".py",
   "mimetype": "text/x-python",
   "name": "python",
   "nbconvert_exporter": "python",
   "pygments_lexer": "ipython3",
   "version": "3.6.5"
  }
 },
 "nbformat": 4,
 "nbformat_minor": 2
}
