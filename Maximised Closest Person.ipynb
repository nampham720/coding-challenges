{
 "cells": [
  {
   "cell_type": "markdown",
   "metadata": {},
   "source": [
    "# Maximised Closest Person\n",
    "Given a list of seats (random) where seated equals to 1 and unseated equals to 0 (at least 01 seated).\n",
    "\n",
    "Find the the maximised closest seat to seat a person.\n",
    "\n",
    "Eg: \n",
    "\n",
    "* seats = [1, 0, 0, 0] output will be 3 (distance = 2). \n",
    "\n",
    "* seats = [1, 0, 0, 1, 0, 1] output will be 2 (distance = 1). "
   ]
  },
  {
   "cell_type": "code",
   "execution_count": 1,
   "metadata": {},
   "outputs": [],
   "source": [
    "seats_1 = [0, 0, 0, 0, 0, 0, 0, 0, 0, 0, 1, 0, 0, 0, 1, 0, 0, 0]\n",
    "seats_2 = [0, 0, 0, 1, 0, 0, 0, 0, 0, 0, 0, 1]\n",
    "seats_3 = [1, 1, 1, 1, 0, 0, 0, 1, 1, 1, 0]\n",
    "seats_4 = [1, 0, 0, 0, 0, 0, 0, 0, 0, 0, 0]\n",
    "seats_5 = [0, 0, 0, 0, 0, 0, 0, 0, 1, 0, 0, 0, 1, 1, 0, 1, 0, 1]\n",
    "seats_6 = [1, 0, 0, 0, 0, 0, 0, 0, 1, 0, 0, 0, 1, 1, 0, 1, 0, 1]"
   ]
  },
  {
   "cell_type": "code",
   "execution_count": 2,
   "metadata": {},
   "outputs": [],
   "source": [
    "def distance(seats):\n",
    "    track_p = [] #track position when seat == 1\n",
    "    track_d = [] #track distance when seat == 0\n",
    "    count = 0\n",
    "\n",
    "    \n",
    "    for i in range(len(seats)):\n",
    "        if seats[i] == 0:\n",
    "            count += 1\n",
    "\n",
    "        if seats[i] == 1:\n",
    "            track_p.append(i)\n",
    "            track_d.append(count)\n",
    "            count = 0\n",
    "            track_i = i #in case seats[-1] == 0\n",
    "\n",
    "        if i == len(seats) - 1:\n",
    "            #if count != 0:\n",
    "            track_p.append(track_i)\n",
    "            track_d.append(count)\n",
    "    \n",
    "    return track_d, track_p\n",
    "\n",
    "def maximum(trackings):\n",
    "    \n",
    "    distance, position = trackings\n",
    "      \n",
    "    index = distance.index(max(distance))\n",
    "\n",
    "    #if not the beginning and the end, take the median \n",
    "    if index != 0 and index != len(distance)-1:\n",
    "        maximum = int((position[index-1] + position[index+1])/2) + 1\n",
    "\n",
    "    if index == 0:\n",
    "        maximum = 0\n",
    "    \n",
    "    if index == len(distance)-1:\n",
    "        maximum = position[index] + distance[index]\n",
    "        \n",
    "    return maximum"
   ]
  },
  {
   "cell_type": "code",
   "execution_count": 3,
   "metadata": {},
   "outputs": [
    {
     "data": {
      "text/plain": [
       "0"
      ]
     },
     "execution_count": 3,
     "metadata": {},
     "output_type": "execute_result"
    }
   ],
   "source": [
    "maximum(distance(seats_1))"
   ]
  },
  {
   "cell_type": "code",
   "execution_count": 4,
   "metadata": {},
   "outputs": [
    {
     "data": {
      "text/plain": [
       "8"
      ]
     },
     "execution_count": 4,
     "metadata": {},
     "output_type": "execute_result"
    }
   ],
   "source": [
    "maximum(distance(seats_2))"
   ]
  },
  {
   "cell_type": "code",
   "execution_count": 5,
   "metadata": {},
   "outputs": [
    {
     "data": {
      "text/plain": [
       "6"
      ]
     },
     "execution_count": 5,
     "metadata": {},
     "output_type": "execute_result"
    }
   ],
   "source": [
    "maximum(distance(seats_3))"
   ]
  },
  {
   "cell_type": "code",
   "execution_count": 6,
   "metadata": {},
   "outputs": [
    {
     "data": {
      "text/plain": [
       "10"
      ]
     },
     "execution_count": 6,
     "metadata": {},
     "output_type": "execute_result"
    }
   ],
   "source": [
    "maximum(distance(seats_4))"
   ]
  },
  {
   "cell_type": "code",
   "execution_count": 7,
   "metadata": {},
   "outputs": [
    {
     "data": {
      "text/plain": [
       "0"
      ]
     },
     "execution_count": 7,
     "metadata": {},
     "output_type": "execute_result"
    }
   ],
   "source": [
    "maximum(distance(seats_5))"
   ]
  },
  {
   "cell_type": "code",
   "execution_count": null,
   "metadata": {},
   "outputs": [],
   "source": []
  }
 ],
 "metadata": {
  "kernelspec": {
   "display_name": "Python 3",
   "language": "python",
   "name": "python3"
  },
  "language_info": {
   "codemirror_mode": {
    "name": "ipython",
    "version": 3
   },
   "file_extension": ".py",
   "mimetype": "text/x-python",
   "name": "python",
   "nbconvert_exporter": "python",
   "pygments_lexer": "ipython3",
   "version": "3.6.5"
  }
 },
 "nbformat": 4,
 "nbformat_minor": 2
}
