{
 "cells": [
  {
   "cell_type": "markdown",
   "metadata": {},
   "source": [
    "# Find the first missing positive value\n",
    "Given an array of integers, find the first missing positive value in linear time and constant space. In other words, find the lowest positive integer that does not exist in the array. "
   ]
  },
  {
   "cell_type": "code",
   "execution_count": 1,
   "metadata": {},
   "outputs": [],
   "source": [
    "l = [0, 8, 1, -1, -2, 4, 6]\n",
    "l1 = [1, 2, 0]\n",
    "l2 = [1, 1, 3, 4, -1, -1]"
   ]
  },
  {
   "cell_type": "code",
   "execution_count": 2,
   "metadata": {},
   "outputs": [],
   "source": [
    "def check(l):\n",
    "    \n",
    "    result = [0] * max(l)\n",
    "    l_positive = [i for i in l if i > 0]\n",
    "    \n",
    "    for val in l_positive:\n",
    "        i = val - 1\n",
    "        result[i] = val\n",
    "    \n",
    "    if result[0] == 0:\n",
    "        return 1, result\n",
    "    \n",
    "    for i in range(1, len(result)):\n",
    "        diff = result[i] - result[i-1]\n",
    "    \n",
    "        if diff == 1:\n",
    "            return result[i] + 1, result\n",
    "        elif diff == -1:\n",
    "            return result[i-1]+1, result"
   ]
  },
  {
   "cell_type": "code",
   "execution_count": 3,
   "metadata": {},
   "outputs": [
    {
     "data": {
      "text/plain": [
       "(2, [1, 0, 0, 4, 0, 6, 0, 8])"
      ]
     },
     "execution_count": 3,
     "metadata": {},
     "output_type": "execute_result"
    }
   ],
   "source": [
    "check(l)"
   ]
  },
  {
   "cell_type": "code",
   "execution_count": 4,
   "metadata": {},
   "outputs": [
    {
     "data": {
      "text/plain": [
       "(3, [1, 2])"
      ]
     },
     "execution_count": 4,
     "metadata": {},
     "output_type": "execute_result"
    }
   ],
   "source": [
    "check(l1)"
   ]
  },
  {
   "cell_type": "code",
   "execution_count": 5,
   "metadata": {},
   "outputs": [
    {
     "data": {
      "text/plain": [
       "(2, [1, 0, 3, 4])"
      ]
     },
     "execution_count": 5,
     "metadata": {},
     "output_type": "execute_result"
    }
   ],
   "source": [
    "check(l2)"
   ]
  }
 ],
 "metadata": {
  "kernelspec": {
   "display_name": "Python 3",
   "language": "python",
   "name": "python3"
  },
  "language_info": {
   "codemirror_mode": {
    "name": "ipython",
    "version": 3
   },
   "file_extension": ".py",
   "mimetype": "text/x-python",
   "name": "python",
   "nbconvert_exporter": "python",
   "pygments_lexer": "ipython3",
   "version": "3.6.5"
  }
 },
 "nbformat": 4,
 "nbformat_minor": 2
}
