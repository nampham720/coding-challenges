{
 "cells": [
  {
   "cell_type": "markdown",
   "metadata": {},
   "source": [
    "# Implementation \n",
    "#### Task: Given a data --> decode number of solutions\n",
    "\n",
    "link: https://www.youtube.com/watch?v=qli-JCrSwuk&t=303s"
   ]
  },
  {
   "cell_type": "code",
   "execution_count": 1,
   "metadata": {},
   "outputs": [],
   "source": [
    "import string"
   ]
  },
  {
   "cell_type": "code",
   "execution_count": 2,
   "metadata": {},
   "outputs": [],
   "source": [
    "given = [char for char in string.ascii_lowercase]\n",
    "task = dict()\n",
    "for i, char in enumerate(given):\n",
    "    task[char] = i+1"
   ]
  },
  {
   "cell_type": "code",
   "execution_count": 3,
   "metadata": {},
   "outputs": [],
   "source": [
    "def decode_char(data):\n",
    "    result = list()\n",
    "\n",
    "    for char in data:\n",
    "        result.append(task.get(char))    \n",
    "    \n",
    "    for i, num in enumerate(result[:-1]):\n",
    "        c = str(num) + str(result[i+1])\n",
    "        if int(c) < 27:\n",
    "            result.append(int(c))\n",
    "   \n",
    "    \n",
    "    return len(result)\n"
   ]
  },
  {
   "cell_type": "code",
   "execution_count": 4,
   "metadata": {},
   "outputs": [],
   "source": [
    "def decode_num(data):\n",
    "    \n",
    "    if ord(data[0]) == 48:\n",
    "        return None\n",
    "    \n",
    "    result = list()\n",
    "    \n",
    "    for num in data:\n",
    "        result.append(int(num))\n",
    "    \n",
    "    for i, num in enumerate(result[:-1]):\n",
    "        c = str(num) + str(result[i+1])\n",
    "        if int(c) < 27:\n",
    "            result.append(int(c))\n",
    "    \n",
    "    return len(result)"
   ]
  },
  {
   "cell_type": "code",
   "execution_count": 5,
   "metadata": {},
   "outputs": [],
   "source": [
    "def decode(data):\n",
    "    if ord(data[0]) >= 97:\n",
    "        return decode_char(data)\n",
    "    else:\n",
    "        return decode_num(data)"
   ]
  },
  {
   "cell_type": "code",
   "execution_count": 6,
   "metadata": {},
   "outputs": [],
   "source": [
    "data1 = '1234'\n",
    "data2 = 'abc'\n"
   ]
  },
  {
   "cell_type": "code",
   "execution_count": 7,
   "metadata": {},
   "outputs": [
    {
     "data": {
      "text/plain": [
       "6"
      ]
     },
     "execution_count": 7,
     "metadata": {},
     "output_type": "execute_result"
    }
   ],
   "source": [
    "decode(data1)"
   ]
  },
  {
   "cell_type": "code",
   "execution_count": 8,
   "metadata": {},
   "outputs": [
    {
     "data": {
      "text/plain": [
       "5"
      ]
     },
     "execution_count": 8,
     "metadata": {},
     "output_type": "execute_result"
    }
   ],
   "source": [
    "decode(data2)"
   ]
  }
 ],
 "metadata": {
  "kernelspec": {
   "display_name": "Python 3",
   "language": "python",
   "name": "python3"
  },
  "language_info": {
   "codemirror_mode": {
    "name": "ipython",
    "version": 3
   },
   "file_extension": ".py",
   "mimetype": "text/x-python",
   "name": "python",
   "nbconvert_exporter": "python",
   "pygments_lexer": "ipython3",
   "version": "3.6.5"
  }
 },
 "nbformat": 4,
 "nbformat_minor": 2
}
