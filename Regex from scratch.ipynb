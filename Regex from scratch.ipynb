{
 "cells": [
  {
   "cell_type": "markdown",
   "metadata": {},
   "source": [
    "# Regex from Scratch\n",
    "Implement regular expression matching with the following special characters:\n",
    "\n",
    "* ``.`` (period) which matches any single character\n",
    "* ``*`` (asterisk) which matches zero or more of the preceding element\n",
    "That is, implement a function that takes in a string and a valid regular expression and returns whether or not the string matches the regular expression.\n",
    "\n",
    "For example, given the regular expression \"ra.\" and the string \"ray\", your function should return true. The same regular expression on the string \"raymond\" should return false.\n",
    "\n",
    "Given the regular expression \".*at\" and the string \"chat\", your function should return true. The same regular expression on the string \"chats\" should return false."
   ]
  },
  {
   "cell_type": "code",
   "execution_count": 2,
   "metadata": {},
   "outputs": [
    {
     "name": "stdout",
     "output_type": "stream",
     "text": [
      "Case:\t('ray', 'ra.')\n",
      "Result:\tTrue\n",
      "\n",
      "Case:\t('raymonds', 'ra.')\n",
      "Result:\tFalse, output => ray\n",
      "\n",
      "Case:\t('chats', 'c*')\n",
      "Result:\tTrue\n",
      "\n",
      "Case:\t('chats', '*s')\n",
      "Result:\tTrue\n",
      "\n",
      "Case:\t('chats', '.*t')\n",
      "Result:\tFalse, output => chat\n",
      "\n",
      "Case:\t('chats', '.*s')\n",
      "Result:\tTrue\n",
      "\n",
      "Case:\t('chats', 'c*.')\n",
      "Result:\tFalse, output => cha\n",
      "\n"
     ]
    }
   ],
   "source": [
    "cases = [(\"ray\", \"ra.\"), (\"raymonds\", \"ra.\"), (\"chats\", \"c*\"), (\"chats\", \"*s\"), (\"chats\", \".*t\"),\n",
    "       (\"chats\", \".*s\"), (\"chats\", \"c*.\")]\n",
    "\n",
    "for case in cases:\n",
    "    word = case[0]\n",
    "    kw = case[1]\n",
    "    print(\"Case:\\t{}\".format(case))\n",
    "    print(\"Result:\\t{}\\n\".format(regex(word, kw)))"
   ]
  },
  {
   "cell_type": "code",
   "execution_count": 1,
   "metadata": {},
   "outputs": [],
   "source": [
    "def asterisk(word, kw):\n",
    "    w, k = list(word), list(kw)\n",
    "    i = k.index('*')\n",
    "    distance = 1\n",
    "    \n",
    "    #asterisk in the beginning\n",
    "    if i == 0:\n",
    "        while not k[i+distance].isalpha():\n",
    "            distance += 1\n",
    "        start = 0\n",
    "        end = w.index(k[i+distance])\n",
    "    \n",
    "    #asterisk in the end\n",
    "    elif i == len(k)-1:\n",
    "        while not k[i-distance].isalpha():\n",
    "            distance += 1\n",
    "            \n",
    "        start = w.index(k[i-distance])+1\n",
    "        end = len(w)\n",
    "    \n",
    "    #elsewhere\n",
    "    else:\n",
    "        \n",
    "        while not k[i-distance].isalpha():\n",
    "            distance += 1\n",
    "\n",
    "        start = w.index(k[i-distance])+1\n",
    "        \n",
    "        distance = 1\n",
    "        while not k[i+distance].isalpha():\n",
    "            distance += 1\n",
    "\n",
    "        end = w.index(k[i+distance])\n",
    "    \n",
    "    out = ''.join([w[i] for i in range(start, end)])\n",
    "    k[i] = out\n",
    "    return ''.join(k)\n",
    "    \n",
    "    \n",
    "def period(word, kw):\n",
    "    w, k = list(word), list(kw)\n",
    "    i = k.index('.')\n",
    "    k[i] = w[i]\n",
    "    return ''.join(k)\n",
    "\n",
    "\n",
    "def regex(word, kw):\n",
    "    original = word\n",
    "    \n",
    "    if '.' in kw and '*' in kw:\n",
    "        new_kw = period(word, kw)\n",
    "        word = asterisk(word, new_kw)\n",
    "        \n",
    "    if '.' in kw and '*' not in kw:\n",
    "        word = period(word, kw)\n",
    "        \n",
    "    if '*' in kw and '.' not in kw:\n",
    "        word = asterisk(word, kw)\n",
    "        \n",
    "    if word == original:\n",
    "        return True\n",
    "    else:\n",
    "        return \"False, output => {}\".format(word)\n",
    "            "
   ]
  },
  {
   "cell_type": "code",
   "execution_count": null,
   "metadata": {},
   "outputs": [],
   "source": []
  }
 ],
 "metadata": {
  "kernelspec": {
   "display_name": "Python 3",
   "language": "python",
   "name": "python3"
  },
  "language_info": {
   "codemirror_mode": {
    "name": "ipython",
    "version": 3
   },
   "file_extension": ".py",
   "mimetype": "text/x-python",
   "name": "python",
   "nbconvert_exporter": "python",
   "pygments_lexer": "ipython3",
   "version": "3.6.5"
  }
 },
 "nbformat": 4,
 "nbformat_minor": 2
}
