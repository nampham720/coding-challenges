{
 "cells": [
  {
   "cell_type": "code",
   "execution_count": 1,
   "metadata": {},
   "outputs": [],
   "source": [
    "import numpy as np"
   ]
  },
  {
   "cell_type": "code",
   "execution_count": 2,
   "metadata": {},
   "outputs": [],
   "source": [
    "doc1 = \"the sky is blue\"\n",
    "doc2 = \"the sky is not blue\"\n",
    "docs = [[doc1], [doc2]]"
   ]
  },
  {
   "cell_type": "code",
   "execution_count": 3,
   "metadata": {},
   "outputs": [],
   "source": [
    "def tf(terms):\n",
    "    '''\n",
    "    Term frequency of each document\n",
    "    terms: list of terms\n",
    "    '''\n",
    "    freq = dict()\n",
    "    for token in terms:\n",
    "        if token in freq:\n",
    "            freq[token] +=1 \n",
    "        else:\n",
    "            freq[token] = 1\n",
    "    return freq"
   ]
  },
  {
   "cell_type": "code",
   "execution_count": 4,
   "metadata": {},
   "outputs": [],
   "source": [
    "def idf(docs):\n",
    "    '''\n",
    "    Idf of all document\n",
    "    docs: list of doc(s)\n",
    "    '''\n",
    "    terms = dict()\n",
    "    total = len(docs)\n",
    "    result = dict()\n",
    "    \n",
    "    for doc in docs:\n",
    "        tokens = [w_token for w_token in ''.join(doc).split()]   \n",
    "        \n",
    "        for token in tokens:\n",
    "            if token in terms:\n",
    "                terms[token] += 1\n",
    "            else:\n",
    "                terms[token] = 1\n",
    "    \n",
    "    for t, f in terms.items():\n",
    "        result[t] = np.log10(total/f)\n",
    "    \n",
    "    return result"
   ]
  },
  {
   "cell_type": "code",
   "execution_count": 5,
   "metadata": {},
   "outputs": [],
   "source": [
    "def tfidf(docs):\n",
    "    '''\n",
    "    Calculate tf-idf\n",
    "    docs: list of docs\n",
    "    '''\n",
    "    result = list()\n",
    "    _idf = idf(docs)\n",
    "    \n",
    "    for index, doc in enumerate(docs):\n",
    "        \n",
    "        result.append(list())\n",
    "        doc = ''.join(doc).split()\n",
    "        \n",
    "        freq = tf(doc)\n",
    "        \n",
    "        for k, v in freq.items():\n",
    "            res = v * _idf.get(k)\n",
    "            result[index].append((k, res))\n",
    "    \n",
    "    return result"
   ]
  },
  {
   "cell_type": "code",
   "execution_count": 6,
   "metadata": {},
   "outputs": [
    {
     "data": {
      "text/plain": [
       "[[('the', 0.0), ('sky', 0.0), ('is', 0.0), ('blue', 0.0)],\n",
       " [('the', 0.0),\n",
       "  ('sky', 0.0),\n",
       "  ('is', 0.0),\n",
       "  ('not', 0.3010299956639812),\n",
       "  ('blue', 0.0)]]"
      ]
     },
     "execution_count": 6,
     "metadata": {},
     "output_type": "execute_result"
    }
   ],
   "source": [
    "tfidf(docs)"
   ]
  }
 ],
 "metadata": {
  "kernelspec": {
   "display_name": "Python 3",
   "language": "python",
   "name": "python3"
  },
  "language_info": {
   "codemirror_mode": {
    "name": "ipython",
    "version": 3
   },
   "file_extension": ".py",
   "mimetype": "text/x-python",
   "name": "python",
   "nbconvert_exporter": "python",
   "pygments_lexer": "ipython3",
   "version": "3.6.5"
  }
 },
 "nbformat": 4,
 "nbformat_minor": 2
}
