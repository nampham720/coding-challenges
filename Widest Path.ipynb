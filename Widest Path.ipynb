{
 "cells": [
  {
   "cell_type": "markdown",
   "metadata": {},
   "source": [
    "There are N trees (numbered from 0 to N-1) in a forest. The K-th tree is located at coordinaets (X[K], Y[K]).\n",
    "\n",
    "We want to build the widest possible vertical path, such that there is no tree on it. The path must be built somewhere between a leftmost and a rightmost tree, which means that the width of the path cannot be infinite. \n",
    "\n",
    "What is the width of the widest possible path that can be built?\n",
    "\n",
    "Given that two arrays X and Y consisting of N integers each, denoting the position of trees. \n",
    "\n",
    "**Approach**: \n",
    "* keywords: widest <-> consider X-axis; no-tree-on-it <-> the area is empty of other nodes. \n",
    "* Unique values of X's => distance between each pair => take the maximum value"
   ]
  },
  {
   "cell_type": "code",
   "execution_count": 11,
   "metadata": {},
   "outputs": [],
   "source": [
    "import matplotlib.pyplot as plt"
   ]
  },
  {
   "cell_type": "code",
   "execution_count": 12,
   "metadata": {},
   "outputs": [
    {
     "data": {
      "image/png": "[encoded data removed]",
      "text/plain": [
       "<Figure size 432x288 with 1 Axes>"
      ]
     },
     "metadata": {},
     "output_type": "display_data"
    }
   ],
   "source": [
    "X = [1, 8, 7, 3, 4, 1, 8]\n",
    "Y = [6, 4, 1, 8, 5, 1, 7]\n",
    "# visualise\n",
    "plt.fill_between((4, 7), (8,8), color='pink')\n",
    "plt.scatter(X, Y)\n",
    "plt.grid(True)"
   ]
  },
  {
   "cell_type": "code",
   "execution_count": 13,
   "metadata": {},
   "outputs": [],
   "source": [
    "def max_width(X, Y):\n",
    "    \n",
    "    distinct = list(set(X))\n",
    "    max_dist = 0\n",
    "    \n",
    "    for i in range(1, len(distinct)):\n",
    "        distance = distinct[i] - distinct[i-1]\n",
    "        \n",
    "        #compare\n",
    "        if max_dist <= distance:\n",
    "            max_dist = distance\n",
    "#            xmax = distinct[i]\n",
    "#            xmin = distinct[i-1]\n",
    "\n",
    "    points = list(zip(X, Y))\n",
    "    \n",
    "#    for (x, y) in points:\n",
    "#        if x == xmax or x == xmin:\n",
    "#            print((x, y))\n",
    "            \n",
    "            \n",
    "    return max_dist"
   ]
  },
  {
   "cell_type": "code",
   "execution_count": 14,
   "metadata": {},
   "outputs": [
    {
     "data": {
      "text/plain": [
       "3"
      ]
     },
     "execution_count": 14,
     "metadata": {},
     "output_type": "execute_result"
    }
   ],
   "source": [
    "max_width(X, Y)"
   ]
  },
  {
   "cell_type": "code",
   "execution_count": 15,
   "metadata": {},
   "outputs": [
    {
     "data": {
      "text/plain": [
       "2"
      ]
     },
     "execution_count": 15,
     "metadata": {},
     "output_type": "execute_result"
    },
    {
     "data": {
      "image/png": "[encoded data removed]",
      "text/plain": [
       "<Figure size 432x288 with 1 Axes>"
      ]
     },
     "metadata": {},
     "output_type": "display_data"
    }
   ],
   "source": [
    "X = [5, 5, 5, 7, 7, 7]\n",
    "Y = [3, 4, 5, 1, 3, 7]\n",
    "\n",
    "# visualise\n",
    "plt.fill_between((5, 7), (8,8), color='pink')\n",
    "plt.scatter(X, Y)\n",
    "plt.grid(True)\n",
    "\n",
    "max_width(X, Y)"
   ]
  }
 ],
 "metadata": {
  "kernelspec": {
   "display_name": "Python 3",
   "language": "python",
   "name": "python3"
  },
  "language_info": {
   "codemirror_mode": {
    "name": "ipython",
    "version": 3
   },
   "file_extension": ".py",
   "mimetype": "text/x-python",
   "name": "python",
   "nbconvert_exporter": "python",
   "pygments_lexer": "ipython3",
   "version": "3.6.5"
  }
 },
 "nbformat": 4,
 "nbformat_minor": 2
}
