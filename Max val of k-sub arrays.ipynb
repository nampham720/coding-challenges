{
 "cells": [
  {
   "cell_type": "markdown",
   "metadata": {},
   "source": [
    "# Total max value of sub array\n",
    "Given an array of integers and a number k, where 1 <= k <= length of the array, compute the maximum values of each subarray of length k.\n",
    "\n",
    "For example, given array = [10, 5, 2, 7, 8, 7] and k = 3, we should get: [10, 7, 8, 8], since:\n",
    "* 10 = max(10, 5, 2)\n",
    "* 7 = max(5, 2, 7)\n",
    "* 8 = max(2, 7, 8)\n",
    "* 8 = max(7, 8, 7)\n"
   ]
  },
  {
   "cell_type": "code",
   "execution_count": 1,
   "metadata": {},
   "outputs": [],
   "source": [
    "arr = [10, 5, 2, 7, 8, 7]\n",
    "k = 3"
   ]
  },
  {
   "cell_type": "code",
   "execution_count": 2,
   "metadata": {},
   "outputs": [],
   "source": [
    "class maxVal_k():\n",
    "    def __init__(self, arr: list,  k: int):\n",
    "        self.arr = arr\n",
    "        self.k = k\n",
    "        \n",
    "    def max_sub_arr(self) -> list:\n",
    "        i = 0\n",
    "        result = list()\n",
    "        \n",
    "        while i <= len(arr)-k:\n",
    "            j = i\n",
    "            track = []\n",
    "\n",
    "            while j < k+i:\n",
    "                track.append(arr[j])\n",
    "                j+=1\n",
    "            \n",
    "            result.append(max(track))\n",
    "            i+=1    \n",
    "        \n",
    "        return result"
   ]
  },
  {
   "cell_type": "code",
   "execution_count": 3,
   "metadata": {},
   "outputs": [],
   "source": [
    "maxVal_k = maxVal_k(arr, 3)"
   ]
  },
  {
   "cell_type": "code",
   "execution_count": 4,
   "metadata": {},
   "outputs": [
    {
     "data": {
      "text/plain": [
       "[10, 7, 8, 8]"
      ]
     },
     "execution_count": 4,
     "metadata": {},
     "output_type": "execute_result"
    }
   ],
   "source": [
    "maxVal_k.max_sub_arr()"
   ]
  }
 ],
 "metadata": {
  "kernelspec": {
   "display_name": "Python 3",
   "language": "python",
   "name": "python3"
  },
  "language_info": {
   "codemirror_mode": {
    "name": "ipython",
    "version": 3
   },
   "file_extension": ".py",
   "mimetype": "text/x-python",
   "name": "python",
   "nbconvert_exporter": "python",
   "pygments_lexer": "ipython3",
   "version": "3.6.5"
  }
 },
 "nbformat": 4,
 "nbformat_minor": 2
}
