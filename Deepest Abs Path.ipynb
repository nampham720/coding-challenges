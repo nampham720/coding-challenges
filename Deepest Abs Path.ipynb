{
 "cells": [
  {
   "cell_type": "markdown",
   "metadata": {},
   "source": [
    "# Deepest Absolute Path\n",
    "\n",
    "Suppose we represent our file system by a string in the following manner:\n",
    "\n",
    "The string ```\"dir\\n\\tsubdir1\\n\\tsubdir2\\n\\t\\tfile.ext\"``` represents:\n",
    "```\n",
    "dir\n",
    "    subdir1\n",
    "    subdir2\n",
    "        file.ext\n",
    "```\n",
    "The directory ```dir``` contains an empty sub-directory ```subdir1``` and a sub-directory ```subdir2``` containing a file ```file.ext```.\n",
    "\n",
    "The string ```\"dir\\n\\tsubdir1\\n\\t\\tfile1.ext\\n\\t\\tsubsubdir1\\n\\tsubdir2\\n\\t\\tsubsubdir2\\n\\t\\t\\tfile2.ext\"``` represents:\n",
    "\n",
    "```\n",
    "dir\n",
    "    subdir1\n",
    "        file1.ext\n",
    "        subsubdir1\n",
    "    subdir2\n",
    "        subsubdir2\n",
    "            file2.ext\n",
    "```\n",
    "\n",
    "The directory ```dir``` contains two sub-directories ```subdir1``` and ```subdir2```. ```subdir1``` contains a file ```file1.ext``` and an empty second-level sub-directory ```subsubdir1```. ```subdir2``` contains a second-level sub-directory ```subsubdir2``` containing a file ```file2.ext```.\n",
    "\n",
    "We are interested in finding the longest (number of characters) absolute path to a file within our file system. For example, in the second example above, the longest absolute path is ```\"dir/subdir2/subsubdir2/file2.ext\"```, and its length is 32 (not including the double quotes).\n",
    "\n",
    "Given a string representing the file system in the above format, return the length of the longest absolute path to a file in the abstracted file system. If there is no file in the system, return 0.\n",
    "\n",
    "Note:\n",
    "\n",
    "The name of a file contains at least a period and an extension.\n",
    "\n",
    "The name of a directory or sub-directory will not contain a period."
   ]
  },
  {
   "cell_type": "markdown",
   "metadata": {},
   "source": [
    "### Personal Note: \n",
    "The program has not yet fulfilled the requirements."
   ]
  },
  {
   "cell_type": "code",
   "execution_count": 1,
   "metadata": {},
   "outputs": [],
   "source": [
    "class deepest_path():\n",
    "    def __init__(self, path: str):\n",
    "        self.path = path\n",
    "        \n",
    "    def track_tab_position(self):\n",
    "        track_tab = [0]*len(self.path)\n",
    "        \n",
    "        for i in range(len(self.path)):\n",
    "            if ord(self.path[i]) == 9: # '\\t' = 9\n",
    "                track_tab[i] = i\n",
    "        return track_tab\n",
    "    \n",
    "    def track_subdir(self):\n",
    "        \n",
    "        track_sub = list()\n",
    "        result = dict()\n",
    "        track_tab = self.track_tab_position()\n",
    "        \n",
    "        \n",
    "        i = 0\n",
    "        # heaping while-loop:\n",
    "        # i -> (condition A) 0, 1, 2, 3\n",
    "        # at i = 3 -> (condition B) 4, 5, 6\n",
    "        # at i = 6 -> (condition A) 7, 8, 9\n",
    "        while i < len(track_tab)-1:\n",
    "            if track_tab[i] == 0:\n",
    "                i+=1\n",
    "            \n",
    "            if track_tab[i] != 0:\n",
    "                #find the position of parent_subdir\n",
    "                if track_tab[i+1] - track_tab[i] != 1:\n",
    "                    key = '{}'.format(i) \n",
    "                    count = 1\n",
    "                    result[key] = {}\n",
    "                    \n",
    "                while track_tab[i+1] - track_tab[i] == 1:\n",
    "                    position = i\n",
    "                    count += 1\n",
    "                    i += 1\n",
    "                    \n",
    "                result[key][i] = count\n",
    "                count = 1\n",
    "            i += 1\n",
    "        return result\n",
    "    \n",
    "    def get_subdir_path(self):\n",
    "        subdir_result = self.track_subdir()\n",
    "        \n",
    "        #return with most \"tab\" count: number_of_tab, from_which_key\n",
    "        most_tab, parent_subdir = max([(max(subdir_result[i].values()), i) for i in subdir_result.keys()])\n",
    "        \n",
    "        candidate = list(subdir_result[parent_subdir].items())\n",
    "        ending = max(candidate)\n",
    "        \n",
    "        \n",
    "        \n",
    "        if parent_subdir != list(subdir_result)[-1]:\n",
    "            position = list(subdir_result).index(parent_subdir)\n",
    "            right_stop = int(list(subdir_result)[position+1]) - 1\n",
    "            \n",
    "            \n",
    "            #candidate = list(subdir_result[parent_subdir].items())\n",
    "            #ending = max(candidate)\n",
    "            index = candidate.index(ending)\n",
    "            another_track = list()\n",
    "\n",
    "            # loop backwards from the biggest \"tab\" value\n",
    "            # only when the difference equals to 1\n",
    "            while candidate[index][1] - candidate[index-1][1] == 1:\n",
    "                index -= 1\n",
    "                another_track.append(candidate[index])\n",
    "\n",
    "            left_start = another_track[-1][0] - 1\n",
    "            \n",
    "            if d[left_start - 1] == '\\n':\n",
    "                left_start = left_start - 1\n",
    "            \n",
    "        else:\n",
    "            left_start = int(parent_subdir) - 1\n",
    "            right_stop = len(self.path)\n",
    "            \n",
    "        return int(parent_subdir), left_start, right_stop, ending[0] \n",
    "    \n",
    "    def final_path(self):\n",
    "        parent_start, left_start, right_stop, file_container = self.get_subdir_path()\n",
    "        \n",
    "        if '.' not in self.path[file_container:right_stop]:\n",
    "            return 0\n",
    "        \n",
    "        final = ''\n",
    "        \n",
    "        \n",
    "        for i in range(len(self.path)):\n",
    "            if ord(self.path[i]) == 10: # first '\\n'\n",
    "                final += self.path[:i+1]\n",
    "                break\n",
    "        \n",
    "        # in case the path is simple: string d1, d2\n",
    "        if parent_start - 1 == left_start:\n",
    "            final += self.path[parent_start:right_stop]\n",
    "            return final\n",
    "        \n",
    "        else:\n",
    "            # more general case: string d\n",
    "            for i in range(parent_start, len(self.path)):\n",
    "                if ord(self.path[i]) == 10: # next '\\n' from parent_dir\n",
    "                    final += self.path[parent_start:i]\n",
    "                    break\n",
    "                \n",
    "            final += self.path[left_start:right_stop]\n",
    "        return final"
   ]
  },
  {
   "cell_type": "code",
   "execution_count": null,
   "metadata": {},
   "outputs": [],
   "source": []
  },
  {
   "cell_type": "code",
   "execution_count": 2,
   "metadata": {},
   "outputs": [],
   "source": [
    "d = \"dir\\n\\tsubdir1\\n\\t\\tfile1.ext\\n\\t\\t\\tfile5.ext\\n\\t\\tsubsubdir1\\n\\t\\t\\tfile3.ext\\n\\t\\t\\t\\tfile4.txt\\n\\tsubdir2\\n\\t\\tsubsubdir2\\n\\t\\t\\tfile2.ext\"\n",
    "d1 = \"dir\\n\\tsubdir1\\n\\t\\tfile1.ext\\n\\t\\tsubsubdir1\\n\\tsubdir2\\n\\t\\tsubsubdir2\\n\\t\\t\\tfile2.ext\"\n",
    "d2 = \"dir\\n\\tsubdir1\\n\\tsubdir2\\n\\t\\tfile.ext\"\n",
    "d3 = \"dir\\n\\tsubdir1\\n\\tsubdir2\\n\\t\\tfileext\" # file error"
   ]
  },
  {
   "cell_type": "code",
   "execution_count": 3,
   "metadata": {},
   "outputs": [
    {
     "name": "stdout",
     "output_type": "stream",
     "text": [
      "CASE 0\n",
      "\n",
      "dir\n",
      "\tsubdir1\n",
      "\t\tfile1.ext\n",
      "\t\t\tfile5.ext\n",
      "\t\tsubsubdir1\n",
      "\t\t\tfile3.ext\n",
      "\t\t\t\tfile4.txt\n",
      "\tsubdir2\n",
      "\t\tsubsubdir2\n",
      "\t\t\tfile2.ext\n",
      "==> ANSWER:\n",
      "\n",
      "dir\n",
      "\tsubdir1\n",
      "\t\tsubsubdir1\n",
      "\t\t\tfile3.ext\n",
      "\t\t\t\tfile4.txt\n",
      "=================\n",
      "CASE 1\n",
      "\n",
      "dir\n",
      "\tsubdir1\n",
      "\t\tfile1.ext\n",
      "\t\tsubsubdir1\n",
      "\tsubdir2\n",
      "\t\tsubsubdir2\n",
      "\t\t\tfile2.ext\n",
      "==> ANSWER:\n",
      "\n",
      "dir\n",
      "\tsubdir2\n",
      "\t\tsubsubdir2\n",
      "\t\t\tfile2.ext\n",
      "=================\n",
      "CASE 2\n",
      "\n",
      "dir\n",
      "\tsubdir1\n",
      "\tsubdir2\n",
      "\t\tfile.ext\n",
      "==> ANSWER:\n",
      "\n",
      "dir\n",
      "\tsubdir2\n",
      "\t\tfile.ext\n",
      "=================\n",
      "CASE 3\n",
      "\n",
      "dir\n",
      "\tsubdir1\n",
      "\tsubdir2\n",
      "\t\tfileext\n",
      "==> ANSWER:\n",
      "\n",
      "0\n",
      "=================\n"
     ]
    }
   ],
   "source": [
    "cases = [d, d1, d2, d3]\n",
    "for i, case in enumerate(cases):\n",
    "    print(\"CASE {}\\n\".format(i))\n",
    "    print(case)\n",
    "    check = deepest_path(case)\n",
    "    print(\"==> ANSWER:\\n\")\n",
    "    print(check.final_path())\n",
    "    print(\"=================\")"
   ]
  },
  {
   "cell_type": "markdown",
   "metadata": {},
   "source": [
    "## FUNCTION EXPLANATION WITH CASE d"
   ]
  },
  {
   "cell_type": "markdown",
   "metadata": {},
   "source": [
    "#### track_tab_position"
   ]
  },
  {
   "cell_type": "code",
   "execution_count": 4,
   "metadata": {},
   "outputs": [
    {
     "name": "stdout",
     "output_type": "stream",
     "text": [
      "[0, 0, 0, 0, 4, 0, 0, 0, 0, 0, 0, 0, 0, 13, 14, 0, 0, 0, 0, 0, 0, 0, 0, 0, 0, 25, 26, 27, 0, 0, 0, 0, 0, 0, 0, 0, 0, 0, 38, 39, 0, 0, 0, 0, 0, 0, 0, 0, 0, 0, 0, 51, 52, 53, 0, 0, 0, 0, 0, 0, 0, 0, 0, 0, 64, 65, 66, 67, 0, 0, 0, 0, 0, 0, 0, 0, 0, 0, 78, 0, 0, 0, 0, 0, 0, 0, 0, 87, 88, 0, 0, 0, 0, 0, 0, 0, 0, 0, 0, 0, 100, 101, 102, 0, 0, 0, 0, 0, 0, 0, 0, 0]\n"
     ]
    }
   ],
   "source": [
    "\n",
    "subdir = list()\n",
    "subdir_files = list()\n",
    "track_tab = [0]*len(d)\n",
    "\n",
    "\n",
    "count_line = 0\n",
    "\n",
    "for i in range(len(d)):\n",
    "    if ord(d[i]) == 9:\n",
    "        track_tab[i] = i\n",
    "\n",
    "\n",
    "print(track_tab)\n",
    "    \n"
   ]
  },
  {
   "cell_type": "markdown",
   "metadata": {},
   "source": [
    "#### track_subdir"
   ]
  },
  {
   "cell_type": "code",
   "execution_count": 5,
   "metadata": {},
   "outputs": [
    {
     "data": {
      "text/plain": [
       "{'4': {4: 1, 14: 2, 27: 3, 39: 2, 53: 3, 67: 4}, '78': {78: 1, 88: 2, 102: 3}}"
      ]
     },
     "execution_count": 5,
     "metadata": {},
     "output_type": "execute_result"
    }
   ],
   "source": [
    "track_sub = list()\n",
    "result = dict()\n",
    "\n",
    "i = 0\n",
    "while i < len(track_tab)-1:\n",
    "    \n",
    "    if track_tab[i] == 0:\n",
    "        i += 1\n",
    "        #print('line')\n",
    "    if track_tab[i] != 0:\n",
    "        if track_tab[i+1] - track_tab[i] != 1:\n",
    "            key = '{}'.format(i)\n",
    "            count = 1\n",
    "            #print('subdir', i)\n",
    "            result[key] = {}\n",
    "            \n",
    "        \n",
    "        while track_tab[i+1] - track_tab[i] == 1:\n",
    "            position = i\n",
    "            #result[key][position]\n",
    "            count += 1\n",
    "            i += 1\n",
    "            \n",
    "            #result[key][i] = count\n",
    "            #print(i)\n",
    "        result[key][i] = count\n",
    "        count = 1\n",
    "        \n",
    "    i += 1\n",
    "                \n",
    "result                "
   ]
  },
  {
   "cell_type": "markdown",
   "metadata": {},
   "source": [
    "#### get subdir_path"
   ]
  },
  {
   "cell_type": "code",
   "execution_count": 6,
   "metadata": {},
   "outputs": [
    {
     "data": {
      "text/plain": [
       "'4'"
      ]
     },
     "execution_count": 6,
     "metadata": {},
     "output_type": "execute_result"
    }
   ],
   "source": [
    "#the one with the most children\n",
    "most_tab, biggest_fam = max([(max(result[i].values()), i) for i in result.keys()])\n",
    "biggest_fam"
   ]
  },
  {
   "cell_type": "code",
   "execution_count": 7,
   "metadata": {},
   "outputs": [
    {
     "data": {
      "text/plain": [
       "78"
      ]
     },
     "execution_count": 7,
     "metadata": {},
     "output_type": "execute_result"
    }
   ],
   "source": [
    "#case most_tab < 1: none\n",
    "#\n",
    "#get the index of the longest child\n",
    "#biggest_fam = result[biggest_fam]\n",
    "\n",
    "\n",
    "if biggest_fam != list(result)[-1]:\n",
    "    smallest_left_start = int(biggest_fam)\n",
    "    smallest_right_stop = int(list(result)[1])\n",
    "\n",
    "smallest_right_stop"
   ]
  },
  {
   "cell_type": "code",
   "execution_count": 8,
   "metadata": {},
   "outputs": [
    {
     "data": {
      "text/plain": [
       "[(4, 1), (14, 2), (27, 3), (39, 2), (53, 3), (67, 4)]"
      ]
     },
     "execution_count": 8,
     "metadata": {},
     "output_type": "execute_result"
    }
   ],
   "source": [
    "biggest_fam = result[biggest_fam]\n",
    "test = list(biggest_fam.items())\n",
    "test"
   ]
  },
  {
   "cell_type": "code",
   "execution_count": 9,
   "metadata": {},
   "outputs": [
    {
     "data": {
      "text/plain": [
       "(67, 4)"
      ]
     },
     "execution_count": 9,
     "metadata": {},
     "output_type": "execute_result"
    }
   ],
   "source": [
    "start = max(test)\n",
    "start"
   ]
  },
  {
   "cell_type": "code",
   "execution_count": 10,
   "metadata": {},
   "outputs": [
    {
     "data": {
      "text/plain": [
       "5"
      ]
     },
     "execution_count": 10,
     "metadata": {},
     "output_type": "execute_result"
    }
   ],
   "source": [
    "index = test.index(start)\n",
    "index"
   ]
  },
  {
   "cell_type": "code",
   "execution_count": 11,
   "metadata": {},
   "outputs": [
    {
     "data": {
      "text/plain": [
       "38"
      ]
     },
     "execution_count": 11,
     "metadata": {},
     "output_type": "execute_result"
    }
   ],
   "source": [
    "index = test.index(start)\n",
    "annen = list()\n",
    "while test[index][1] - test[index-1][1] == 1:\n",
    "    \n",
    "    index -= 1\n",
    "    annen.append(test[index])\n",
    "    \n",
    "annen[-1][0] - 1"
   ]
  },
  {
   "cell_type": "code",
   "execution_count": 12,
   "metadata": {},
   "outputs": [
    {
     "name": "stdout",
     "output_type": "stream",
     "text": [
      "\tsubdir1\n",
      "\t\tfile1.ext\n",
      "\t\t\tfile5.ext\n",
      "\t\tsubsubdir1\n",
      "\t\t\tfile3.ext\n",
      "\t\t\t\tfile4.txt\n"
     ]
    }
   ],
   "source": [
    "#smallest of biggest to smallest of the next branch or to the end\n",
    "print(d[smallest_left_start : smallest_right_stop-1])"
   ]
  }
 ],
 "metadata": {
  "kernelspec": {
   "display_name": "Python 3",
   "language": "python",
   "name": "python3"
  },
  "language_info": {
   "codemirror_mode": {
    "name": "ipython",
    "version": 3
   },
   "file_extension": ".py",
   "mimetype": "text/x-python",
   "name": "python",
   "nbconvert_exporter": "python",
   "pygments_lexer": "ipython3",
   "version": "3.6.5"
  }
 },
 "nbformat": 4,
 "nbformat_minor": 2
}
